{
 "cells": [
  {
   "cell_type": "markdown",
   "metadata": {},
   "source": [
    "---\n",
    "layout: post\n",
    "comments: true\n",
    "title: FRQ - Checklist and Review\n",
    "description: FRQ Checklist\n",
    "categories:\n",
    "  - AP Test Prep\n",
    "---\n",
    "\n",
    "## Checklist\n",
    "Final points to review before AP exam"
   ]
  },
  {
   "cell_type": "markdown",
   "metadata": {},
   "source": [
    "# Classes\n",
    "4 points that you should get, even if you have no idea how to code.\n",
    "\n",
    "#### Point 1\n",
    "Declares class header: class Scoreboard\n",
    "\n",
    " - Do NOT forget public\n",
    " - Do NOT write the name wrong"
   ]
  },
  {
   "cell_type": "code",
   "execution_count": null,
   "metadata": {},
   "outputs": [],
   "source": [
    "public class Scoreboard {\n",
    "    \n",
    "}"
   ]
  },
  {
   "cell_type": "markdown",
   "metadata": {},
   "source": [
    "#### Point 2\n",
    "Declares at least one private String instance variable and one private int instance variable\n",
    "\n",
    "###### Figuring out variables\n",
    " - Create variables for constructor\n",
    " - Create variables that the methods will use or return\n",
    " - Create static variables for class"
   ]
  },
  {
   "cell_type": "code",
   "execution_count": null,
   "metadata": {},
   "outputs": [],
   "source": [
    "public class Scoreboard {\n",
    "    private String Team1;\n",
    "    private String Team2;\n",
    "    private int turn;\n",
    "    private int score1;\n",
    "    private int score2;\n",
    "}"
   ]
  },
  {
   "cell_type": "markdown",
   "metadata": {},
   "source": [
    "#### Point 3\n",
    "- Identify what the constructor takes in\n",
    "- Assign variables appropriately\n",
    "- Make sure your constructure is PUBLIC"
   ]
  },
  {
   "cell_type": "code",
   "execution_count": null,
   "metadata": {},
   "outputs": [],
   "source": [
    "public class Scoreboard {\n",
    "   private String Team1;\n",
    "   private String Team2;\n",
    "   private int turn;\n",
    "   private int score1;\n",
    "   private int score2;\n",
    "\n",
    "   public Scoreboard(String team1, String team2) { \n",
    "      this.Team1 = team1; \n",
    "      this.Team2 = team2; \n",
    "      this.whoseTurn = 1; \n",
    "      this.score1 = 0; \n",
    "      this.score2 = 0; \n",
    "   }\n",
    "}"
   ]
  },
  {
   "cell_type": "markdown",
   "metadata": {},
   "source": [
    "#### Point 4\n",
    "Declares method headers: `public void recordPlay(int ___)` and `public String getScore()`\n",
    "\n",
    "- Do not mess up the names\n",
    "- Do not mess up the return types or argument types. These are given in the specifications"
   ]
  },
  {
   "cell_type": "code",
   "execution_count": null,
   "metadata": {},
   "outputs": [],
   "source": [
    "public class Scoreboard {\n",
    "    private String Team1;\n",
    "    private String Team2;\n",
    "    private int turn;\n",
    "    private int score1;\n",
    "    private int score2;\n",
    " \n",
    "    public Scoreboard(String team1, String team2) { \n",
    "       this.Team1 = team1; \n",
    "       this.Team2 = team2; \n",
    "       this.whoseTurn = 1; \n",
    "       this.score1 = 0; \n",
    "       this.score2 = 0; \n",
    "    }\n",
    "\n",
    "    public void recordPlay(int points) {\n",
    "        \n",
    "    }\n",
    "\n",
    "    public String getScore() {\n",
    "        \n",
    "    }\n",
    " }"
   ]
  },
  {
   "cell_type": "markdown",
   "metadata": {},
   "source": [
    "## 2DArrays Reminders\n",
    "\n",
    "- Index Out of Bound Exception: going over the bounds of array (e.g. you have a 5 element list called “array” but you use array[5] to access the last element)\n",
    "\n",
    "- Misusing .get()/[]: .get() function is used to get a specific item in an ArrayList, while the square brackets “[]” are used to access specific elements in arrays \n",
    "\n",
    "- Jagged Arrays: not all 2d arrays in Java have the same column sizes, so assuming that all 2d arrays are congruent might lead to index out of bounds exceptions\n",
    "\n",
    "- Not Initializing 2D Arrays Correctly: when initializing 2d arrays, make sure to follow this format: int[][] arr  = new int[a][b], where your a and b are your row and column size.\n",
    "\n",
    "- Copying Arrays Incorrectly: using = to copy an array only creates a reference copy, not an actual copy. \n",
    "\n",
    "Ex w/ problematic code:"
   ]
  },
  {
   "cell_type": "code",
   "execution_count": null,
   "metadata": {},
   "outputs": [],
   "source": [
    "public Location getNextLoc(int row, int col)\n",
    "{\n",
    "    int rows = 0;\n",
    "    if (row == grid.length)\n",
    "    {\n",
    "        return new Location(row, col + 1);\n",
    "    }\n",
    "    else if (col == grid[0].length)\n",
    "    {\n",
    "        System.out.println(“Check last column”);\n",
    "        return new Location(row + 1, col);\n",
    "    }\n",
    "    else if (grid[row + 1][col] < grid[row][col + 1])\n",
    "    {\n",
    "        return new Location(row + 1, col);\n",
    "    }\n",
    "    else\n",
    "    {\n",
    "        return; \n",
    "    }\n",
    "}"
   ]
  }
 ],
 "metadata": {
  "kernelspec": {
   "display_name": "Java",
   "language": "java",
   "name": "java"
  },
  "language_info": {
   "codemirror_mode": "java",
   "file_extension": ".jshell",
   "mimetype": "text/x-java-source",
   "name": "java",
   "pygments_lexer": "java",
   "version": "17.0.12+7-Ubuntu-1ubuntu222.04"
  }
 },
 "nbformat": 4,
 "nbformat_minor": 2
}
