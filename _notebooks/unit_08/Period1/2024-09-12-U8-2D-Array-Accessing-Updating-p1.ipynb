{
 "cells": [
  {
   "cell_type": "raw",
   "metadata": {
    "vscode": {
     "languageId": "raw"
    }
   },
   "source": [
    "---\n",
    "layout: post\n",
    "toc: true\n",
    "title: Unit 8 - 2D Arrays Accessing and Updating\n",
    "description: 2D Arrays Lesson\n",
    "authors: Anusha Khobare\n",
    "categories: [AP CSA]\n",
    "type: ccc\n",
    "permalink: /unit8lesson-p1-accessing-updating\n",
    "menu: nav/CSA_Units/csa_unit8_p1.html\n",
    "---"
   ]
  },
  {
   "cell_type": "markdown",
   "metadata": {},
   "source": [
    "<table>\n",
    "    <tr>\n",
    "        <td><img src=\"../../../../images/logo.png\" height=\"60\" title=\"Unit 8\" alt=\"\"></td>\n",
    "        <td><a href=\"../../../../unit8lesson-p1\">Intro</a></td>\n",
    "        <td><a href=\"../../../../unit8lesson-p1-declare-initialize\">Declaring, Initializing</a></td>\n",
    "        <td><a href=\"../../../../unit8lesson-p1-accessing-updating\">Accessing, Updating</a></td>\n",
    "        <td><a href=\"../../../../unit8lesson-p1-traversing\">Traversing</a></td>\n",
    "        <td><a href=\"../../../../unit8lesson-p1-algorithms\">Algorithms</a></td>\n",
    "    </tr>\n",
    "</table>"
   ]
  },
  {
   "cell_type": "markdown",
   "metadata": {},
   "source": [
    "## Accessing and updating the values of a 2D array\n",
    "In Java, accessing and updating values in a 2D array is done using the row and column indices. The general format is:\n",
    "\n",
    "~~~\n",
    "- **Accessing a value**: array[row][column]\n",
    "- **Updating a value**: array[row][column] = newValue;\n",
    "~~~\n",
    "\n",
    "![image](https://github.com/user-attachments/assets/b1f79b97-f81b-4ea5-951d-5c098fae0767)\n"
   ]
  },
  {
   "cell_type": "markdown",
   "metadata": {},
   "source": [
    "### Popcorn Hack 1 (Part 2)\n",
    "- **Update the values of the array, you made in part 1 to the group members in another group**"
   ]
  },
  {
   "cell_type": "code",
   "execution_count": null,
   "metadata": {},
   "outputs": [],
   "source": [
    "String[][] bob = new String[2][2];\n",
    "\n",
    "bob[0][0] = \"Ian\";\n",
    "bob[0][1] = \"Srijan\";\n",
    "bob[1][0] = \"Tarun\";\n",
    "bob[1][1] = \"Jonathan\";\n",
    "\n",
    "bob[0][0] = \"Aidan\";\n",
    "bob[0][1] = \"Saathvik\";\n",
    "bob[1][0] = \"Sri\";\n",
    "bob[1][1] = \"Tanav\";"
   ]
  }
 ],
 "metadata": {
  "kernelspec": {
   "display_name": "Java",
   "language": "java",
   "name": "java"
  },
  "language_info": {
   "codemirror_mode": "java",
   "file_extension": ".jshell",
   "mimetype": "text/x-java-source",
   "name": "java",
   "pygments_lexer": "java",
   "version": "17.0.12+7-Ubuntu-1ubuntu222.04"
  },
  "orig_nbformat": 4
 },
 "nbformat": 4,
 "nbformat_minor": 2
}
