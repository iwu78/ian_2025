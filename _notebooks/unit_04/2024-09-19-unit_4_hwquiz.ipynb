{
 "cells": [
  {
   "cell_type": "markdown",
   "metadata": {},
   "source": [
    "---\n",
    "layout: post\n",
    "type: collab\n",
    "title: Unit 4 - HW Quiz\n",
    "description: Unit 4 Team Teach HW QUIZ\n",
    "comments: true\n",
    "permalink: /csa/unit4-p1/unit4-hwquiz\n",
    "menu: nav/CSA_Units/csa_unit4_p1.html\n",
    "author: hanlun, saaras, arthur, miheer, eshaan, beijan\n",
    "---"
   ]
  },
  {
   "cell_type": "markdown",
   "metadata": {},
   "source": [
    "<table>\n",
    "    <tr>\n",
    "        <td><img src=\"{{site.baseurl}}/images/logo.png\" height=\"60\" title=\"Unit 4\" alt=\"\"></td>\n",
    "        <td><a href=\"{{site.baseurl}}/csa/unit4-p1/unit4-1\">4.1 While Loop</a></td>\n",
    "        <td><a href=\"{{site.baseurl}}/csa/unit4-p1/unit4-2\">4.2 For Loop</a></td>\n",
    "        <td><a href=\"{{site.baseurl}}/csa/unit4-p1/unit4-3\">4.3 String Iteration</a></td>\n",
    "        <td><a href=\"{{site.baseurl}}/csa/unit4-p1/unit4-4\">4.4 Nested Iteration</a></td>\n",
    "        <td><a href=\"{{site.baseurl}}/csa/unit4-p1/unit4-hwquiz\">Unit 4 HW Quiz</a></td>\n",
    "    </tr>\n",
    "</table>"
   ]
  },
  {
   "cell_type": "markdown",
   "metadata": {},
   "source": [
    "## Unit 4 - Iteration:\n",
    "- This is the homework quiz for unit 4, iterations\n",
    "- 4 multiple choice questions\n",
    "- 2 programming hacks\n",
    "- 1 bonus programming hack (required to get above 0.9)"
   ]
  },
  {
   "cell_type": "markdown",
   "metadata": {},
   "source": [
    "### Question 1:\n",
    "What does the following code print?   \n",
    "\n",
    "A. 5 6 7 8 9   \n",
    "\n",
    "B. 4 5 6 7 8 9 10 11 12   \n",
    "\n",
    "C. 3 5 7 9 11   \n",
    "\n",
    "D. 3 4 5 6 7 8 9 10 11 12   \n",
    "\n",
    "<details>\n",
    "<summary>Click to reveal answer:</summary> \n",
    "  D\n",
    "</details>\n",
    "\n",
    "Explain your answer. (explanation is graded not answer)"
   ]
  },
  {
   "cell_type": "code",
   "execution_count": null,
   "metadata": {},
   "outputs": [],
   "source": [
    "for (int i = 3; i <= 12; i++) {\n",
    "   System.out.print(i + \" \");\n",
    "}"
   ]
  },
  {
   "cell_type": "markdown",
   "metadata": {},
   "source": [
    "Answer: D\n",
    "The code iterates through all the numbers from 3 to 12 and prints out the index. It index starts at three, and therefore prints out three, then iterates by one and ends at 12. D is the only option that does this."
   ]
  },
  {
   "cell_type": "markdown",
   "metadata": {},
   "source": [
    "### Bonus:\n",
    "- Explain the difference between using a variable like i inside a for loop, vs. using a variable that exists in the code itself for a while loop\n",
    "\n",
    "Using a new variable ensures that the loop functions properly, because when a variable that exists in the code itself is used, things can change, as changing one part of the code results in alteration of another part that can have unexpected results."
   ]
  },
  {
   "cell_type": "markdown",
   "metadata": {},
   "source": [
    "### Question 2:\n",
    "How many times does the following method print a \"*\" ?\n",
    "\n",
    "A. 9\n",
    "\n",
    "B. 7\n",
    "\n",
    "C. 8\n",
    "\n",
    "D. 6\n",
    "\n",
    "<details>\n",
    "<summary>Click to reveal answer:</summary> \n",
    "  C\n",
    "</details>\n",
    "\n",
    "Explain your answer. (explanation is graded not answer)"
   ]
  },
  {
   "cell_type": "code",
   "execution_count": null,
   "metadata": {},
   "outputs": [],
   "source": [
    "for (int i = 3; i < 11; i++) {\n",
    "   System.out.print(\"*\");\n",
    "}"
   ]
  },
  {
   "cell_type": "markdown",
   "metadata": {},
   "source": [
    "C. The code iterates beginning at 3 and ends at 11, index incrementing by one and printing out a * each time. It prints out the * 11-3 = 8 times."
   ]
  },
  {
   "cell_type": "markdown",
   "metadata": {},
   "source": [
    "### Question 3:\n",
    "What does the following code print?\n",
    "\n",
    "A. -4 -3 -2 -1 0\n",
    "\n",
    "B. -5 -4 -3 -2 -1\n",
    "\n",
    "C. 5 4 3 2 1\n",
    "\n",
    "<details>\n",
    "<summary>Click to reveal answer:</summary> \n",
    "  A\n",
    "</details>\n",
    "\n",
    "Explain your answer. (explanation is graded not answer)"
   ]
  },
  {
   "cell_type": "code",
   "execution_count": null,
   "metadata": {},
   "outputs": [],
   "source": [
    "int x = -5;\n",
    "while (x < 0)\n",
    "{\n",
    "   x++;\n",
    "   System.out.print(x + \" \");\n",
    "}"
   ]
  },
  {
   "cell_type": "markdown",
   "metadata": {},
   "source": [
    "A. It prints out the index starting at -5 and is incremented by one each time. The increment is done before printing so it starts at -4."
   ]
  },
  {
   "cell_type": "markdown",
   "metadata": {},
   "source": [
    "### Question 4:\n",
    "What does the following code print?\n",
    "\n",
    "A. 20\n",
    "\n",
    "B. 21\n",
    "\n",
    "C. 25\n",
    "\n",
    "D. 30\n",
    "\n",
    "<details>\n",
    "<summary>Click to reveal answer:</summary> \n",
    "  B\n",
    "</details>\n",
    "\n",
    "Explain your answer. (explanation is graded not answer)"
   ]
  },
  {
   "cell_type": "code",
   "execution_count": null,
   "metadata": {},
   "outputs": [],
   "source": [
    "int sum = 0;\n",
    "\n",
    "for (int i = 1; i <= 5; i++) {\n",
    "    if (i % 2 == 0) {\n",
    "        sum += i * 2;\n",
    "    } else {\n",
    "        sum += i;\n",
    "    }\n",
    "}\n",
    "\n",
    "System.out.println(sum);"
   ]
  },
  {
   "cell_type": "markdown",
   "metadata": {},
   "source": [
    "This sums up the numbers from one two five but doubles the even numbers. 1 + 4 + 3 + 8 + 5 = 21."
   ]
  },
  {
   "cell_type": "markdown",
   "metadata": {},
   "source": [
    "## Loops HW Hack"
   ]
  },
  {
   "cell_type": "markdown",
   "metadata": {},
   "source": [
    "### Easy Hack\n",
    "- Use a while loop to find the numbers from 1-50 that are divisible by 3 or 5, then store them into a list (make sure to print it out at the end)\n",
    "- Use a for loop to do the same thing detailed above"
   ]
  },
  {
   "cell_type": "code",
   "execution_count": 4,
   "metadata": {},
   "outputs": [
    {
     "name": "stdout",
     "output_type": "stream",
     "text": [
      "3 is divisible by 3\n",
      "6 is divisible by 3\n",
      "9 is divisible by 3\n",
      "12 is divisible by 3\n",
      "15 is divisible by 3\n",
      "18 is divisible by 3\n",
      "21 is divisible by 3\n",
      "24 is divisible by 3\n",
      "27 is divisible by 3\n",
      "30 is divisible by 3\n",
      "33 is divisible by 3\n",
      "36 is divisible by 3\n",
      "39 is divisible by 3\n",
      "42 is divisible by 3\n",
      "45 is divisible by 3\n",
      "48 is divisible by 3\n"
     ]
    },
    {
     "name": "stdout",
     "output_type": "stream",
     "text": [
      "5 is divisible by 5\n",
      "10 is divisible by 5\n",
      "15 is divisible by 5\n",
      "20 is divisible by 5\n",
      "25 is divisible by 5\n",
      "30 is divisible by 5\n",
      "35 is divisible by 5\n",
      "40 is divisible by 5\n",
      "45 is divisible by 5\n",
      "50 is divisible by 5\n"
     ]
    }
   ],
   "source": [
    "for (int i = 1; i < 51; i++) {\n",
    "    if (i % 3 == 0) {\n",
    "        System.out.println(i + \" is divisible by 3\");\n",
    "    }\n",
    "}\n",
    "\n",
    "int j = 1;\n",
    "while (j < 51) {\n",
    "    if (j % 5 == 0) {\n",
    "        System.out.println(j + \" is divisible by 5\");\n",
    "    }\n",
    "    j += 1;\n",
    "}"
   ]
  },
  {
   "cell_type": "markdown",
   "metadata": {},
   "source": [
    "### Harder Hack\n",
    "#### Palindromes are numbers that have the same value when reversed (ex: “123321” or “323”). Create a program that uses a while loop that outputs all palindromes in any given list. \n",
    "\n",
    "Sample Input: \n",
    "test_list = [5672, 235, 5537, 6032, 317, 8460, 1672, 8104, 7770, 4442, 913, 2508, 1116, 9969, 9091, 522, 8756, 9527, 7968, 1520, 4444, 515, 2882, 6556, 595]\n",
    "\n",
    "Sample Output:\n",
    "4444, 515, 2882, 6556, 595"
   ]
  },
  {
   "cell_type": "code",
   "execution_count": 7,
   "metadata": {},
   "outputs": [
    {
     "name": "stdout",
     "output_type": "stream",
     "text": [
      "4444 is a palindrome.\n",
      "515 is a palindrome.\n",
      "2882 is a palindrome.\n",
      "6556 is a palindrome.\n",
      "595 is a palindrome.\n"
     ]
    }
   ],
   "source": [
    "public static boolean isPalindrome(int number) {\n",
    "    String str = Integer.toString(number);\n",
    "    String reversedStr = new StringBuilder(str).reverse().toString();\n",
    "    return str.equals(reversedStr);\n",
    "}\n",
    "\n",
    "\n",
    "int[] test_list = {5672, 235, 5537, 6032, 317, 8460, 1672, 8104, 7770, 4442, 913, 2508, 1116, 9969, 9091, 522, 8756, 9527, 7968, 1520, 4444, 515, 2882, 6556, 595};\n",
    "\n",
    "for (int number : test_list) {\n",
    "    if (isPalindrome(number)) {\n",
    "        System.out.println(number + \" is a palindrome.\");\n",
    "    }\n",
    "}"
   ]
  },
  {
   "cell_type": "markdown",
   "metadata": {},
   "source": [
    "## Bonus Hack (for above 0.9)\n",
    "### Use a for loop to output a spiral matrix with size n\n",
    "Example:\n",
    "\n",
    "Sample Input: n = 3\n",
    "\n",
    "Output: [[1, 2, 3], [8, 9, 4], [7, 6, 5]]"
   ]
  },
  {
   "cell_type": "code",
   "execution_count": 21,
   "metadata": {},
   "outputs": [
    {
     "name": "stdout",
     "output_type": "stream",
     "text": [
      "1\t2\t3\t4\t5\t6\t7\t8\t9\t10\t11\t12\t13\t14\t15\t\n",
      "56\t57\t58\t59\t60\t61\t62\t63\t64\t65\t66\t67\t68\t69\t16\t\n",
      "55\t104\t105\t106\t107\t108\t109\t110\t111\t112\t113\t114\t115\t70\t17\t\n",
      "54\t103\t144\t145\t146\t147\t148\t149\t150\t151\t152\t153\t116\t71\t18\t\n",
      "53\t102\t143\t176\t177\t178\t179\t180\t181\t182\t183\t154\t117\t72\t19\t\n",
      "52\t101\t142\t175\t200\t201\t202\t203\t204\t205\t184\t155\t118\t73\t20\t\n",
      "51\t100\t141\t174\t199\t216\t217\t218\t219\t206\t185\t156\t119\t74\t21\t\n",
      "50\t99\t140\t173\t198\t215\t224\t225\t220\t207\t186\t157\t120\t75\t22\t\n",
      "49\t98\t139\t172\t197\t214\t223\t222\t221\t208\t187\t158\t121\t76\t23\t\n",
      "48\t97\t138\t171\t196\t213\t212\t211\t210\t209\t188\t159\t122\t77\t24\t\n",
      "47\t96\t137\t170\t195\t194\t193\t192\t191\t190\t189\t160\t123\t78\t25\t\n",
      "46\t95\t136\t169\t168\t167\t166\t165\t164\t163\t162\t161\t124\t79\t26\t\n",
      "45\t94\t135\t134\t133\t132\t131\t130\t129\t128\t127\t126\t125\t80\t27\t\n",
      "44\t93\t92\t91\t90\t89\t88\t87\t86\t85\t84\t83\t82\t81\t28\t\n",
      "43\t42\t41\t40\t39\t38\t37\t36\t35\t34\t33\t32\t31\t30\t29\t\n"
     ]
    }
   ],
   "source": [
    "static int n = 15;\n",
    "static int[][] matrix = new int[n][n];\n",
    "static int nextInt = 1;\n",
    "\n",
    "int top = 0, bottom = n - 1, left = 0, right = n - 1;\n",
    "\n",
    "while (nextInt <= n * n) {\n",
    "    for (int col = left; col <= right && nextInt <= n * n; col++) {\n",
    "        matrix[top][col] = nextInt++;\n",
    "    }\n",
    "    top++;\n",
    "\n",
    "    for (int row = top; row <= bottom && nextInt <= n * n; row++) {\n",
    "        matrix[row][right] = nextInt++;\n",
    "    }\n",
    "    right--;\n",
    "\n",
    "    for (int col = right; col >= left && nextInt <= n * n; col--) {\n",
    "        matrix[bottom][col] = nextInt++;\n",
    "    }\n",
    "    bottom--;\n",
    "\n",
    "    for (int row = bottom; row >= top && nextInt <= n * n; row--) {\n",
    "        matrix[row][left] = nextInt++;\n",
    "    }\n",
    "    left++;\n",
    "}\n",
    "\n",
    "for (int[] row : matrix) {\n",
    "    for (int value : row) {\n",
    "        System.out.print(value + \"\\t\");\n",
    "    }\n",
    "    System.out.println();\n",
    "}"
   ]
  }
 ],
 "metadata": {
  "kernelspec": {
   "display_name": "Java",
   "language": "java",
   "name": "java"
  },
  "language_info": {
   "codemirror_mode": "java",
   "file_extension": ".jshell",
   "mimetype": "text/x-java-source",
   "name": "java",
   "pygments_lexer": "java",
   "version": "17.0.12+7-Ubuntu-1ubuntu222.04"
  }
 },
 "nbformat": 4,
 "nbformat_minor": 2
}
