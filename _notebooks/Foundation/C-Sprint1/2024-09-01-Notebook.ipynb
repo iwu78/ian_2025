{
 "cells": [
  {
   "cell_type": "markdown",
   "metadata": {},
   "source": [
    "---\n",
    "layout: post\n",
    "title: Notebook - Verification\n",
    "description: Verification\n",
    "categories:\n",
    "  - Sprint 1\n",
    "comments: True\n",
    "---"
   ]
  },
  {
   "cell_type": "code",
   "execution_count": 3,
   "metadata": {
    "vscode": {
     "languageId": "java"
    }
   },
   "outputs": [],
   "source": [
    "class HelloWorld {\n",
    "    public static void main(String[] args) {\n",
    "        System.out.println(\"Hello, World!\"); \n",
    "    }\n",
    "}"
   ]
  }
 ],
 "metadata": {
  "kernelspec": {
   "display_name": "Java",
   "language": "java",
   "name": "java"
  },
  "language_info": {
   "codemirror_mode": "java",
   "file_extension": ".jshell",
   "mimetype": "text/x-java-source",
   "name": "Java",
   "pygments_lexer": "java",
   "version": "11.0.24+8-post-Ubuntu-1ubuntu322.04"
  }
 },
 "nbformat": 4,
 "nbformat_minor": 2
}
