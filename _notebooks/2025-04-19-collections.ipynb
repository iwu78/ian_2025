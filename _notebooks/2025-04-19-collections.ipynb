{
 "cells": [
  {
   "cell_type": "markdown",
   "metadata": {},
   "source": [
    "---\n",
    "layout: post\n",
    "comments: true\n",
    "title: Collections\n",
    "description: Collections\n",
    "categories:\n",
    "  - AP Test Prep\n",
    "---"
   ]
  },
  {
   "cell_type": "code",
   "execution_count": 3,
   "metadata": {
    "vscode": {
     "languageId": "java"
    }
   },
   "outputs": [
    {
     "name": "stdout",
     "output_type": "stream",
     "text": [
      "Even numbers: [2, 4, 6]\n"
     ]
    }
   ],
   "source": [
    "public static ArrayList<Integer> a(ArrayList<Integer> a) {\n",
    "\n",
    "    ArrayList<Integer> b = new ArrayList<>();\n",
    "\n",
    "    for (int d = 0; d < a.size(); d++) {\n",
    "        int c = a.get(d);\n",
    "        if (c % 2 == 0) {\n",
    "            b.add(c);\n",
    "        }\n",
    "    }\n",
    "\n",
    "    return b;\n",
    "}\n",
    "\n",
    "ArrayList<Integer> a = new ArrayList<>();\n",
    "a.add(1);\n",
    "a.add(2);\n",
    "a.add(3);\n",
    "a.add(4);\n",
    "a.add(5);\n",
    "a.add(6);\n",
    "\n",
    "ArrayList<Integer> b = a(a);\n",
    "System.out.println(\"Even numbers: \" + b);"
   ]
  },
  {
   "cell_type": "code",
   "execution_count": 4,
   "metadata": {
    "vscode": {
     "languageId": "java"
    }
   },
   "outputs": [
    {
     "name": "stdout",
     "output_type": "stream",
     "text": [
      "[2, 3]\n"
     ]
    }
   ],
   "source": [
    "import java.util.HashSet;\n",
    "import java.util.Set;\n",
    "\n",
    "Set<Integer> i(Set<Integer> a, Set<Integer> b) {\n",
    "    Set<Integer> r = new HashSet<>();\n",
    "    for (Integer x : a) {\n",
    "        if (b.contains(x)) {\n",
    "            r.add(x);\n",
    "        }\n",
    "    }\n",
    "    return r;\n",
    "}\n",
    "\n",
    "Set<Integer> a = new HashSet<>();\n",
    "a.add(1);\n",
    "a.add(2);\n",
    "a.add(3);\n",
    "\n",
    "Set<Integer> b = new HashSet<>();\n",
    "b.add(2);\n",
    "b.add(3);\n",
    "b.add(4);\n",
    "\n",
    "Set<Integer> r = i(a, b);\n",
    "System.out.println(r);"
   ]
  },
  {
   "cell_type": "code",
   "execution_count": 5,
   "metadata": {
    "vscode": {
     "languageId": "java"
    }
   },
   "outputs": [
    {
     "name": "stdout",
     "output_type": "stream",
     "text": [
      "Front: Alice\n",
      "Back: Charlie\n",
      "Size: 3\n"
     ]
    }
   ],
   "source": [
    "import java.util.ArrayDeque;\n",
    "import java.util.Deque;\n",
    "\n",
    "Deque<String> ℓ = new ArrayDeque<>();\n",
    "\n",
    "ℓ.addLast(\"Alice\");\n",
    "ℓ.addLast(\"Bob\");\n",
    "ℓ.addLast(\"Charlie\");\n",
    "\n",
    "ℓ.addFirst(\"VIP\");\n",
    "\n",
    "ℓ.removeFirst();\n",
    "\n",
    "System.out.println(\"Front: \" + ℓ.peekFirst());\n",
    "System.out.println(\"Back: \" + ℓ.peekLast());\n",
    "System.out.println(\"Size: \" + ℓ.size());\n"
   ]
  },
  {
   "cell_type": "markdown",
   "metadata": {},
   "source": [
    "HashSet. It contains the fastest check for if the HashSet contains something, and naturally contains duplicates. Example below"
   ]
  },
  {
   "cell_type": "code",
   "execution_count": 6,
   "metadata": {
    "vscode": {
     "languageId": "java"
    }
   },
   "outputs": [
    {
     "name": "stdout",
     "output_type": "stream",
     "text": [
      "IDs: [1967583, 1997452, 1907982, 1964585, 1984184, 1988119, 1972836, 1968002, 1910498, 1948338]\n",
      "Has 1901234? false\n"
     ]
    }
   ],
   "source": [
    "import java.util.HashSet;\n",
    "import java.util.Random;\n",
    "import java.util.Set;\n",
    "\n",
    "Set<Integer> s = new HashSet<>();\n",
    "Random r = new Random();\n",
    "\n",
    "while (s.size() < 10) {\n",
    "    int i = 1900000 + r.nextInt(100000);\n",
    "    s.add(i);\n",
    "}\n",
    "\n",
    "System.out.println(\"IDs: \" + s);\n",
    "\n",
    "int x = 1901234;\n",
    "System.out.println(\"Has \" + x + \"? \" + s.contains(x));"
   ]
  }
 ],
 "metadata": {
  "kernelspec": {
   "display_name": "Java",
   "language": "java",
   "name": "java"
  },
  "language_info": {
   "codemirror_mode": "java",
   "file_extension": ".jshell",
   "mimetype": "text/x-java-source",
   "name": "Java",
   "pygments_lexer": "java",
   "version": "17.0.14+7-Ubuntu-122.04.1"
  }
 },
 "nbformat": 4,
 "nbformat_minor": 2
}
