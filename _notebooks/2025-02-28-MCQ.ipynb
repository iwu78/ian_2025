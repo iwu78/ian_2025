{
 "cells": [
  {
   "cell_type": "markdown",
   "metadata": {},
   "source": [
    "---\n",
    "layout: post\n",
    "comments: True\n",
    "title: 2015 MCQ Corrections\n",
    "description: 2015 MCQ Corrections\n",
    "categories: ['Project Work']\n",
    "---"
   ]
  },
  {
   "cell_type": "markdown",
   "metadata": {},
   "source": [
    "### MCQ\n",
    "Score 34/39. Score was OK but more silly mistakes were made than I would've liked.\n",
    "\n",
    "##### Q9\n",
    "A pair of number cubes is used in a game of chance. Each number cube has six sides, numbered from 1 to 6, inclusive, and there is an equal probability for each of the numbers to appear on the top side (indicating the cube's value) when the number cube is rolled. The following incomplete statement appears in a program that computes the sum of the values produced by rolling two number cubes.\n",
    "\n",
    "int sum = / * missing code * / ;\n",
    "\n",
    "Which of the following replacements for /* missing code */ would best simulate the value produced as a result of rolling two number cubes?\n",
    "Responses\n",
    "Wrong Answer: (int) (Math.random() * 6) + (int) (Math.random() * 6)\n",
    "Correct Answer: 2 + (int) (Math.random() * 6) + (int) (Math.random() * 6)\n",
    "\n",
    "The Math.random() gives a random number from 0 to 1. Multiplying this by 6 gives a random number of 0 to 6, and casting as an integer gives from 0 to 5. Therefore, two must be added to give a simulation of two dice. \n",
    "\n",
    "Mistake: The number is not already an integer, and when casted the output is never 6.\n",
    "\n",
    "##### Q21\n",
    "Consider the following recursive method.\n",
    "\n",
    "What is printed as a result of the call whatsItDo(\"WATCH\") ?"
   ]
  },
  {
   "cell_type": "code",
   "execution_count": null,
   "metadata": {
    "vscode": {
     "languageId": "java"
    }
   },
   "outputs": [
    {
     "name": "stdout",
     "output_type": "stream",
     "text": [
      "WATC\n",
      "WAT\n",
      "WA\n",
      "W\n"
     ]
    }
   ],
   "source": [
    "public static void whatsItDo(String str) {\n",
    "    int len = str.length();\n",
    "    if (len > 1) {\n",
    "        String temp = str.substring(0, len - 1);\n",
    "        System.out.println(temp);\n",
    "        whatsItDo(temp);\n",
    "    }\n",
    "}\n",
    "\n",
    "whatsItDo(\"WATCH\")"
   ]
  },
  {
   "cell_type": "markdown",
   "metadata": {},
   "source": [
    "As visible from code above, correct answer is WATC, WAT, WA, W. The function recursively calls itself to remove the last letter of the string each time before printing it out.\n",
    "\n",
    "MISTAKE: I thought the function printed the string first, before removing the last letter.\n",
    "\n",
    "##### Q22\n",
    "Consider the following definition. Which of the following code segments produces the output 123456?\n",
    "\n",
    "Correct Answer:"
   ]
  },
  {
   "cell_type": "code",
   "execution_count": null,
   "metadata": {
    "vscode": {
     "languageId": "java"
    }
   },
   "outputs": [
    {
     "name": "stdout",
     "output_type": "stream",
     "text": [
      "123456"
     ]
    }
   ],
   "source": [
    "for (int[] row : numbers) {\n",
    "    for (int n : row) {\n",
    "        System.out.print(n);\n",
    "    }\n",
    "}"
   ]
  },
  {
   "cell_type": "markdown",
   "metadata": {},
   "source": [
    "This one was quite obvious, misclick.\n",
    "\n",
    "MISTAKE: Did not double check selected correct answers\n",
    "\n",
    "##### Q26\n",
    "\n",
    "Consider the following two methods, which appear within a single class. What is printed as a result of the call start()?\n",
    "\n",
    "![Image 12](../../../images/12.jpg)\n",
    "\n",
    "Wrong Answer: 0 0 0 0 0 0 black\n",
    "Correct Answer: 1 2 3 4 5 6 blackboard\n",
    "\n",
    "MISTAKE: I did not see the arr = new int[5];. I knew that parameters in java are passed using call by value and are references, and assumed that the parameter values were updated without seeing this line, which sets a new array to avoid modifying the old one.\n",
    "\n",
    "##### Q27\n",
    "\n",
    "Directions: Select the choice that best fits each statement. The following question(s) refer to the following information.\n",
    "\n",
    "Consider the following sort method. This method correctly sorts the elements of array data into increasing order.\n",
    "\n",
    "Assume that sort is called with the array {6, 3, 2, 5, 4, 1}. What will the value of data be after three passes of the outer loop (i.e., when j = 2 at the point indicated by / * End of outer loop * /) ?\n",
    "\n",
    "![Image 13](../../../images/13.jpg)\n",
    "\n",
    "Wrong Answer: {1, 2, 3, 4, 5, 6}\n",
    "Correct Answer: {1, 2, 3, 5, 4, 6}\n",
    "\n",
    "MISTAKE: Did not read the after three passes of the outer loop and instead selected the option that results from completing all passes.\n",
    "\n",
    "### FRQ\n",
    "\n",
    "Tangibles TBA - Under Construction"
   ]
  }
 ],
 "metadata": {
  "language_info": {
   "name": "python"
  }
 },
 "nbformat": 4,
 "nbformat_minor": 2
}
