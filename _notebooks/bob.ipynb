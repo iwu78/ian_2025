{
 "cells": [
  {
   "cell_type": "code",
   "execution_count": null,
   "id": "aee3357b",
   "metadata": {},
   "outputs": [
    {
     "ename": "",
     "evalue": "",
     "output_type": "error",
     "traceback": [
      "\u001b[1;31mRunning cells with 'Python 2.7.18' requires the ipykernel package.\n",
      "\u001b[1;31m<a href='command:jupyter.createPythonEnvAndSelectController'>Create a Python Environment</a> with the required packages."
     ]
    }
   ],
   "source": [
    "import pandas as plt\n",
    "\n",
    "df = plt.read_csv('power.csv', header=None)\n",
    "\n",
    "for index, row in df[:50].iterrows():\n",
    "    plt.plot(row, label=f'Row {index+1}')\n",
    "\n",
    "plt.xlabel('Column Index')\n",
    "plt.ylabel('Value')\n",
    "plt.title('Scatterplot with Multiple Lines from CSV Rows')\n",
    "\n",
    "plt.legend()\n",
    "plt.show()"
   ]
  }
 ],
 "metadata": {
  "kernelspec": {
   "display_name": "Python 3",
   "language": "python",
   "name": "python3"
  },
  "language_info": {
   "name": "python",
   "version": "2.7.18"
  }
 },
 "nbformat": 4,
 "nbformat_minor": 5
}
