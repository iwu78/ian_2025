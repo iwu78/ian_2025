{
 "cells": [
  {
   "cell_type": "raw",
   "metadata": {},
   "source": [
    "---\n",
    "layout: post\n",
    "title:  9.7 Object Superclass\n",
    "courses: { csse: {week: 1}, csp: {week: 1}, csa: {week: 1} }\n",
    "categories: [DevOps]\n",
    "permalink: /inheritance/object-superclass\n",
    "menu: nav/inheritance.html\n",
    "comments: true\n",
    "sticky_rank: 1\n",
    "---"
   ]
  },
  {
   "cell_type": "markdown",
   "metadata": {},
   "source": [
    "<table>\n",
    "    <tr>\n",
    "        <td><img src=\"https://github.com/user-attachments/assets/3f95fc8f-4f0a-4e98-a56b-fae8d5b37f77\" height=\"60\" title=\"Pair\" alt=\"\"></td>\n",
    "        <td><a href=\"{{site.baseurl}}/inheritance\">Introduction to Inheritance</a></td>\n",
    "        <td><a href=\"{{site.baseurl}}/inheritance/superclass\">9.1/9.2</a></td>\n",
    "        <td><a href=\"{{site.baseurl}}/inheritance/override\">9.3/9.4</a></td>\n",
    "        <td><a href=\"{{site.baseurl}}/inheritance/hierarchies\">9.5</a></td>\n",
    "        <td><a href=\"{{site.baseurl}}/inheritance/poly-morphism\">9.6</a></td>\n",
    "        <td><a href=\"{{site.baseurl}}/inheritance/object-superclass\">9.7</a></td>\n",
    "        <td><a href=\"{{site.baseurl}}/inheritance-hacks\">Hacks</a></td>\n",
    "    </tr>\n",
    "</table>"
   ]
  },
  {
   "cell_type": "markdown",
   "metadata": {},
   "source": [
    "## Object Superclass"
   ]
  },
  {
   "cell_type": "markdown",
   "metadata": {},
   "source": [
    "Learning Targets: \n",
    "   * What is the *Object* class\n",
    "   * Why is the *Object* class important to remember"
   ]
  },
  {
   "cell_type": "markdown",
   "metadata": {},
   "source": [
    "***"
   ]
  },
  {
   "cell_type": "markdown",
   "metadata": {},
   "source": [
    "Every class and object created **without** the ```extends``` keyword will be implicitly extended from the **[Object Superclass](https://docs.oracle.com/javase/8/docs/api/java/lang/Object.html)**. This means it will inherit some basic methods. Some notable methods are:\n",
    "1. ```getClass()```\n",
    "2. ```toString()```\n",
    "3. ```equals()```"
   ]
  },
  {
   "cell_type": "markdown",
   "metadata": {},
   "source": [
    "### So What?\n",
    "Well its important to keep in mind when writing out your class. If you are planning to have a **method** in your class/object that **matches** the basic **Object**, then it **must** be a ```public override``` because all of the Object methods are public.\n",
    "* are some methods from Object such as **getClass()** that you **cannot** override."
   ]
  },
  {
   "cell_type": "code",
   "execution_count": null,
   "metadata": {},
   "outputs": [],
   "source": [
    "// this will return an error\n",
    "class Shape {\n",
    "    String toString(){\n",
    "        return \"Shape\";\n",
    "    }\n",
    "}"
   ]
  },
  {
   "cell_type": "code",
   "execution_count": 2,
   "metadata": {},
   "outputs": [],
   "source": [
    "// this will be fine\n",
    "class Shape{\n",
    "    @Override\n",
    "    public String toString(){\n",
    "        return \"Shape\";\n",
    "    }\n",
    "}"
   ]
  },
  {
   "cell_type": "markdown",
   "metadata": {},
   "source": [
    "## Popcorn Hacks\n",
    "Create an example where you execute an unchanged method from *Object*, then execute a different method from *Object* that you changed."
   ]
  },
  {
   "cell_type": "code",
   "execution_count": 3,
   "metadata": {},
   "outputs": [
    {
     "name": "stdout",
     "output_type": "stream",
     "text": [
      "d a: 2096826150\n",
      "e f a: g\n"
     ]
    }
   ],
   "source": [
    "public class A {\n",
    "    @Override\n",
    "    public String toString() {\n",
    "        return \"g\";\n",
    "    }\n",
    "}\n",
    "\n",
    "A a = new A();\n",
    "\n",
    "int b = a.hashCode();\n",
    "System.out.println(\"d a: \" + b);\n",
    "\n",
    "String c = a.toString();\n",
    "System.out.println(\"e f a: \" + c);\n"
   ]
  }
 ],
 "metadata": {
  "kernelspec": {
   "display_name": "Java",
   "language": "java",
   "name": "java"
  },
  "language_info": {
   "codemirror_mode": "java",
   "file_extension": ".jshell",
   "mimetype": "text/x-java-source",
   "name": "java",
   "pygments_lexer": "java",
   "version": "17.0.12+7-Ubuntu-1ubuntu222.04"
  }
 },
 "nbformat": 4,
 "nbformat_minor": 2
}
