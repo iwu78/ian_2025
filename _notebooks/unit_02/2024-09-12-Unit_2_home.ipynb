{
 "cells": [
  {
   "cell_type": "raw",
   "metadata": {
    "vscode": {
     "languageId": "raw"
    }
   },
   "source": [
    "---\n",
    "layout: post\n",
    "title: Unit 2 - Using Objects\n",
    "description: The homepage for unit 2.\n",
    "type: collab\n",
    "toc: true\n",
    "permalink: /csa/unit2/period3/home/\n",
    "menu: nav/CSA_Units/unit2/period3.html\n",
    "comments: true\n",
    "courses: { csa: {week: 5} }\n",
    "type: ccc\n",
    "categories: [AP CSA]\n",
    "author: Aadit Mathur, Eric Yu, Shuban Pal, Rahul Verma\n",
    "categories:\n",
    "  - Sprint 2 - CB Units - Java\n",
    "---"
   ]
  },
  {
   "cell_type": "markdown",
   "metadata": {},
   "source": [
    "<table>\n",
    "    <tr>\n",
    "        <td><img src=\"{{site.baseurl}}/images/logo.png\" height=\"60\" title=\"Unit 2\" alt=\"\"></td>\n",
    "        <td><a href=\"{{site.baseurl}}/csa/unit2/period3/part1/\">Objects and Void Methods</a></td>\n",
    "        <td><a href=\"{{site.baseurl}}/csa/unit2/period3/part2/\">Methods</a></td>\n",
    "        <td><a href=\"{{site.baseurl}}/csa/unit2/period3/part3/\">String Objects</a></td>\n",
    "        <td><a href=\"{{site.baseurl}}/csa/unit2/period3/part4/\">Wrapper Classes</a></td>\n",
    "        <td><a href=\"{{site.baseurl}}/csa/unit2/period3/homework/\">HW</a></td>\n",
    "    </tr>\n",
    "</table>"
   ]
  },
  {
   "cell_type": "markdown",
   "metadata": {},
   "source": [
    "# Unit 2 - Using Objects\n",
    "\n",
    "This is one of the **most important** concepts in Java. Buckle up and pay attention!\n",
    "\n",
    "\n",
    "## Learning Goals\n",
    "- Understand classes and objects as a concept\n",
    "  - Learn about attributes and methods\n",
    "- Learn about the String class and its methods\n",
    "- Learn about the wrapper classes for primitives\n",
    "- Learn about the Math module\n",
    "\n",
    "## Demos\n",
    "- Book (what are objects?)\n",
    "- Rubiks cube (methods and classes)\n",
    "- Box (autoboxing/unboxing)\n",
    "\n",
    "## In-Class Activities\n",
    "- Method golf (method signatures)\n",
    "- Shooting hoops (MC practice)\n",
    "\n",
    "## Resources\n",
    "- [Programiz](https://www.programiz.com/java-programming/class-objects)\n",
    "  - Brief overview\n",
    "- W3Schools [objects](https://www.w3schools.com/java/java_classes.asp), [strings](https://www.w3schools.com/java/java_strings.asp), and [math](https://www.w3schools.com/java/java_math.asp)\n",
    "  - More detailed explanations\n",
    "- [AP Classroom](https://apclassroom.collegeboard.org/)\n",
    "  - Everything needed for the AP exam in this unit\n",
    "- Official documentation for [objects](https://docs.oracle.com/javase/8/docs/api/java/util/Objects.html), [strings](https://docs.oracle.com/en/java/javase/22/docs/api/java.base/java/lang/String.html), and [math](https://docs.oracle.com/javase/8/docs/api/java/lang/Math.html)\n",
    "  - Very detailed\n"
   ]
  }
 ],
 "metadata": {
  "language_info": {
   "name": "python"
  }
 },
 "nbformat": 4,
 "nbformat_minor": 2
}
