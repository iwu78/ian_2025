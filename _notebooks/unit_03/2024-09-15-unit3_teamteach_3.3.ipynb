{
 "cells": [
  {
   "cell_type": "raw",
   "metadata": {
    "vscode": {
     "languageId": "raw"
    }
   },
   "source": [
    "---\n",
    "layout: post\n",
    "title: Unit 3 Team Teach - 3.3\n",
    "description: Unit 3 Team Teach\n",
    "comments: true\n",
    "menu: nav/CSA_Units/csa_unit3_p1.html\n",
    "permalink: /csa/unit3-p1/unit3-3\n",
    "author: Alisha Hussain, Anika Bhatnagar, Kayden Le, Sharon Kodali\n",
    "---"
   ]
  },
  {
   "cell_type": "markdown",
   "metadata": {},
   "source": [
    "<table>\n",
    "    <tr>\n",
    "        <td><img src=\"{{site.baseurl}}/images/logo.png\" height=\"60\" title=\"Unit 3\" alt=\"\"></td>\n",
    "        <td><a href=\"{{site.baseurl}}/csa/unit3-p1/unit3-1\">3.1: Boolean Expressions</a></td>\n",
    "        <td><a href=\"{{site.baseurl}}/csa/unit3-p1/unit3-2\">3.2: If Control Flow</a></td>\n",
    "        <td><a href=\"{{site.baseurl}}/csa/unit3-p1/unit3-3\">3.3: If Else</a></td>\n",
    "        <td><a href=\"{{site.baseurl}}/csa/unit3-p1/unit3-4\">3.4: Else If</a></td>\n",
    "        <td><a href=\"{{site.baseurl}}/csa/unit3-p1/unit3-5\">3.5: Compound Booleans</a></td>\n",
    "        <td><a href=\"{{site.baseurl}}/csa/unit3-p1/unit3-6\">3.6: Equivalent Booleans</a></td>\n",
    "        <td><a href=\"{{site.baseurl}}/csa/unit3-p1/unit3-7\">3.7: Comparing Objects</a></td>\n",
    "        <td><a href=\"{{site.baseurl}}/csa/unit3-p1/unit3-8hw\">3.8: Homework</a></td>\n",
    "    </tr>\n",
    "</table>"
   ]
  },
  {
   "cell_type": "markdown",
   "metadata": {},
   "source": [
    "# 3.3 If Else Statements\n",
    "\n",
    "<a id=\"if-else-statements\"></a>\n",
    "## Purpose of Else Statements\n",
    "Else statements: Handles what happens when the if condition is false.\n",
    "Structure of If-Else:\n",
    "- If statement with a condition.\n",
    "- Else statement without a condition.\n",
    "- Both parts have code blocks surrounded by {}.\n",
    "\n"
   ]
  },
  {
   "cell_type": "markdown",
   "metadata": {},
   "source": [
    "# don't forget the brackets "
   ]
  },
  {
   "cell_type": "code",
   "execution_count": 1,
   "metadata": {},
   "outputs": [
    {
     "ename": "CompilationException",
     "evalue": "",
     "output_type": "error",
     "traceback": [
      "\u001b[1m\u001b[30m|   \u001b[1m\u001b[30m    \u001b[0m\u001b[1m\u001b[30m\u001b[41m\u001b[0m\u001b[1m\u001b[30m    console.log(\"x is greater than 10\");\u001b[0m",
      "\u001b[1m\u001b[31millegal character: '\\u00a0'\u001b[0m",
      "",
      "\u001b[1m\u001b[30m|   \u001b[1m\u001b[30m     \u001b[0m\u001b[1m\u001b[30m\u001b[41m\u001b[0m\u001b[1m\u001b[30m   console.log(\"x is greater than 10\");\u001b[0m",
      "\u001b[1m\u001b[31millegal character: '\\u00a0'\u001b[0m",
      "",
      "\u001b[1m\u001b[30m|   \u001b[1m\u001b[30m      \u001b[0m\u001b[1m\u001b[30m\u001b[41m\u001b[0m\u001b[1m\u001b[30m  console.log(\"x is greater than 10\");\u001b[0m",
      "\u001b[1m\u001b[31millegal character: '\\u00a0'\u001b[0m",
      "",
      "\u001b[1m\u001b[30m|   \u001b[1m\u001b[30m       \u001b[0m\u001b[1m\u001b[30m\u001b[41m\u001b[0m\u001b[1m\u001b[30m console.log(\"x is greater than 10\");\u001b[0m",
      "\u001b[1m\u001b[31millegal character: '\\u00a0'\u001b[0m",
      "",
      "\u001b[1m\u001b[30m|   \u001b[1m\u001b[30m    \u001b[0m\u001b[1m\u001b[30m\u001b[41m\u001b[0m\u001b[1m\u001b[30m    console.log(\"This code when the condition is true\");\u001b[0m",
      "\u001b[1m\u001b[31millegal character: '\\u00a0'\u001b[0m",
      "",
      "\u001b[1m\u001b[30m|   \u001b[1m\u001b[30m     \u001b[0m\u001b[1m\u001b[30m\u001b[41m\u001b[0m\u001b[1m\u001b[30m   console.log(\"This code when the condition is true\");\u001b[0m",
      "\u001b[1m\u001b[31millegal character: '\\u00a0'\u001b[0m",
      "",
      "\u001b[1m\u001b[30m|   \u001b[1m\u001b[30m      \u001b[0m\u001b[1m\u001b[30m\u001b[41m\u001b[0m\u001b[1m\u001b[30m  console.log(\"This code when the condition is true\");\u001b[0m",
      "\u001b[1m\u001b[31millegal character: '\\u00a0'\u001b[0m",
      "",
      "\u001b[1m\u001b[30m|   \u001b[1m\u001b[30m       \u001b[0m\u001b[1m\u001b[30m\u001b[41m\u001b[0m\u001b[1m\u001b[30m console.log(\"This code when the condition is true\");\u001b[0m",
      "\u001b[1m\u001b[31millegal character: '\\u00a0'\u001b[0m",
      "",
      "\u001b[1m\u001b[30m|   \u001b[1m\u001b[30m    \u001b[0m\u001b[1m\u001b[30m\u001b[41m\u001b[0m\u001b[1m\u001b[30m    console.log(\"x is 10 or less\");\u001b[0m",
      "\u001b[1m\u001b[31millegal character: '\\u00a0'\u001b[0m",
      "",
      "\u001b[1m\u001b[30m|   \u001b[1m\u001b[30m     \u001b[0m\u001b[1m\u001b[30m\u001b[41m\u001b[0m\u001b[1m\u001b[30m   console.log(\"x is 10 or less\");\u001b[0m",
      "\u001b[1m\u001b[31millegal character: '\\u00a0'\u001b[0m",
      "",
      "\u001b[1m\u001b[30m|   \u001b[1m\u001b[30m      \u001b[0m\u001b[1m\u001b[30m\u001b[41m\u001b[0m\u001b[1m\u001b[30m  console.log(\"x is 10 or less\");\u001b[0m",
      "\u001b[1m\u001b[31millegal character: '\\u00a0'\u001b[0m",
      "",
      "\u001b[1m\u001b[30m|   \u001b[1m\u001b[30m       \u001b[0m\u001b[1m\u001b[30m\u001b[41m\u001b[0m\u001b[1m\u001b[30m console.log(\"x is 10 or less\");\u001b[0m",
      "\u001b[1m\u001b[31millegal character: '\\u00a0'\u001b[0m",
      "",
      "\u001b[1m\u001b[30m|   \u001b[1m\u001b[30m    \u001b[0m\u001b[1m\u001b[30m\u001b[41m\u001b[0m\u001b[1m\u001b[30m    console.log(\"This code runs when the condition is false\");\u001b[0m",
      "\u001b[1m\u001b[31millegal character: '\\u00a0'\u001b[0m",
      "",
      "\u001b[1m\u001b[30m|   \u001b[1m\u001b[30m     \u001b[0m\u001b[1m\u001b[30m\u001b[41m\u001b[0m\u001b[1m\u001b[30m   console.log(\"This code runs when the condition is false\");\u001b[0m",
      "\u001b[1m\u001b[31millegal character: '\\u00a0'\u001b[0m",
      "",
      "\u001b[1m\u001b[30m|   \u001b[1m\u001b[30m      \u001b[0m\u001b[1m\u001b[30m\u001b[41m\u001b[0m\u001b[1m\u001b[30m  console.log(\"This code runs when the condition is false\");\u001b[0m",
      "\u001b[1m\u001b[31millegal character: '\\u00a0'\u001b[0m",
      "",
      "\u001b[1m\u001b[30m|   \u001b[1m\u001b[30m       \u001b[0m\u001b[1m\u001b[30m\u001b[41m\u001b[0m\u001b[1m\u001b[30m console.log(\"This code runs when the condition is false\");\u001b[0m",
      "\u001b[1m\u001b[31millegal character: '\\u00a0'\u001b[0m",
      ""
     ]
    }
   ],
   "source": [
    "if (x > 10) {\n",
    "\n",
    "        console.log(\"x is greater than 10\");\n",
    "        console.log(\"This code when the condition is true\");\n",
    "    } else {\n",
    "    \n",
    "        console.log(\"x is 10 or less\");\n",
    "        console.log(\"This code runs when the condition is false\");\n",
    "    }\n",
    "    Without brackets:\n",
    "    \n",
    "    if (x > 10)\n",
    "    \n",
    "        console.log(\"x is greater than 10\");\n",
    "        console.log(\"this code will always run\");"
   ]
  },
  {
   "cell_type": "markdown",
   "metadata": {},
   "source": [
    "<img width=\"816\" alt=\"image\" src=\"https://github.com/user-attachments/assets/c6701143-b87f-427b-a206-6cee0660571c\">\n",
    "\n",
    "1. Based on this code, if you were younger than 16 what would it print out?\n",
    " - \"You are not old enough for a license yet\"\n",
    "2. Write your own if else statement"
   ]
  },
  {
   "cell_type": "code",
   "execution_count": 5,
   "metadata": {},
   "outputs": [
    {
     "name": "stdout",
     "output_type": "stream",
     "text": [
      "d\n"
     ]
    }
   ],
   "source": [
    "boolean a = true;\n",
    "boolean b = false;\n",
    "boolean c = false;\n",
    "\n",
    "if (a ^ b) {\n",
    "    System.out.println(\"d\");\n",
    "} else {\n",
    "    System.out.println(\"e\");\n",
    "}"
   ]
  }
 ],
 "metadata": {
  "kernelspec": {
   "display_name": "Java",
   "language": "java",
   "name": "java"
  },
  "language_info": {
   "codemirror_mode": "java",
   "file_extension": ".jshell",
   "mimetype": "text/x-java-source",
   "name": "java",
   "pygments_lexer": "java",
   "version": "17.0.12+7-Ubuntu-1ubuntu222.04"
  }
 },
 "nbformat": 4,
 "nbformat_minor": 2
}
