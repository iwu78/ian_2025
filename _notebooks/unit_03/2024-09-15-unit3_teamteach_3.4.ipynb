{
 "cells": [
  {
   "cell_type": "raw",
   "metadata": {
    "vscode": {
     "languageId": "raw"
    }
   },
   "source": [
    "---\n",
    "layout: post\n",
    "title: Unit 3 Team Teach - 3.4\n",
    "description: Unit 3 Team Teach\n",
    "comments: true\n",
    "menu: nav/CSA_Units/csa_unit3_p1.html\n",
    "permalink: /csa/unit3-p1/unit3-4\n",
    "author: Alisha Hussain, Anika Bhatnagar, Kayden Le, Sharon Kodali\n",
    "---"
   ]
  },
  {
   "cell_type": "markdown",
   "metadata": {},
   "source": [
    "<table>\n",
    "    <tr>\n",
    "        <td><img src=\"{{site.baseurl}}/images/logo.png\" height=\"60\" title=\"Unit 3\" alt=\"\"></td>\n",
    "        <td><a href=\"{{site.baseurl}}/csa/unit3-p1/unit3-1\">3.1: Boolean Expressions</a></td>\n",
    "        <td><a href=\"{{site.baseurl}}/csa/unit3-p1/unit3-2\">3.2: If Control Flow</a></td>\n",
    "        <td><a href=\"{{site.baseurl}}/csa/unit3-p1/unit3-3\">3.3: If Else</a></td>\n",
    "        <td><a href=\"{{site.baseurl}}/csa/unit3-p1/unit3-4\">3.4: Else If</a></td>\n",
    "        <td><a href=\"{{site.baseurl}}/csa/unit3-p1/unit3-5\">3.5: Compound Booleans</a></td>\n",
    "        <td><a href=\"{{site.baseurl}}/csa/unit3-p1/unit3-6\">3.6: Equivalent Booleans</a></td>\n",
    "        <td><a href=\"{{site.baseurl}}/csa/unit3-p1/unit3-7\">3.7: Comparing Objects</a></td>\n",
    "        <td><a href=\"{{site.baseurl}}/csa/unit3-p1/unit3-8hw\">3.8: Homework</a></td>\n",
    "    </tr>\n",
    "</table>"
   ]
  },
  {
   "cell_type": "markdown",
   "metadata": {},
   "source": [
    "# 3.4 Else If Statements \n",
    "Else If Statements: Used when you have multiple conditions that need to be checked sequentially.\n",
    "\n",
    "Flow of Execution: Each condition is evaluated in the order written. The first true condition's code runs, and the rest are skipped.\n",
    "\n",
    "Structure:\n",
    "\n",
    "- Start with a single if statement.\n",
    "- Follow with as many else if statements as needed.\n",
    "- Optionally end with one else to handle any remaining cases.\n",
    "Key Concept: The order of conditions matters. More specific conditions should come before broader ones to ensure accurate results.\n",
    "\n",
    "<img width=\"734\" alt=\"image\" src=\"https://github.com/user-attachments/assets/d7864258-6f7a-4de1-a6f3-4905dd3eb503\">\n",
    "\n",
    "1. If I was 19 what would it print out?\n",
    " - \"Current age: 19\"\n",
    " - \"You can register to vote.\"\n",
    " - \"You are old enough for a license to drive.\" \n",
    "2. If I was 13 what would it print out? \n",
    " - \"Current age: 13\"\n",
    "3. Create your if statement with one else if condition."
   ]
  },
  {
   "cell_type": "code",
   "execution_count": 4,
   "metadata": {},
   "outputs": [
    {
     "name": "stdout",
     "output_type": "stream",
     "text": [
      "e\n"
     ]
    }
   ],
   "source": [
    "boolean a = true;\n",
    "boolean b = false;\n",
    "boolean c = false;\n",
    "\n",
    "if (!(a ^ b)) {\n",
    "    System.out.println(\"d\");\n",
    "} else if (c || b ^ a) {\n",
    "    System.out.println(\"e\");\n",
    "} else {\n",
    "    System.out.println(\"f\");\n",
    "}"
   ]
  }
 ],
 "metadata": {
  "kernelspec": {
   "display_name": "Java",
   "language": "java",
   "name": "java"
  },
  "language_info": {
   "codemirror_mode": "java",
   "file_extension": ".jshell",
   "mimetype": "text/x-java-source",
   "name": "java",
   "pygments_lexer": "java",
   "version": "17.0.12+7-Ubuntu-1ubuntu222.04"
  }
 },
 "nbformat": 4,
 "nbformat_minor": 2
}
