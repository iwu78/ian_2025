{
 "cells": [
  {
   "cell_type": "markdown",
   "metadata": {},
   "source": [
    "---\n",
    "layout: post\n",
    "title:  10 Recursion Homework\n",
    "permalink: /recursion\n",
    "---"
   ]
  },
  {
   "cell_type": "code",
   "execution_count": null,
   "metadata": {},
   "outputs": [],
   "source": [
    "public int countWays(int n) {\n",
    "    if (n == 0) return 1;\n",
    "    if (n < 0) return 0;\n",
    "\n",
    "    return countWays(n - 1) + countWays(n - 2);\n",
    "}"
   ]
  },
  {
   "cell_type": "markdown",
   "metadata": {},
   "source": [
    "countWays(3) --> countWays(2) + countWays(1)\n",
    "countWays(3) --> (countWays(1) + countWays(0)) + (countWays(0) + countWays(-1))\n",
    "countWays(3) --> (1 + 1) + (1 + 0) = 3"
   ]
  },
  {
   "cell_type": "code",
   "execution_count": 3,
   "metadata": {},
   "outputs": [
    {
     "name": "stdout",
     "output_type": "stream",
     "text": [
      "5\n"
     ]
    }
   ],
   "source": [
    "public int countWaysVariableSteps(int n, int[] steps) {\n",
    "    if (n == 0) return 1;\n",
    "    if (n < 0) return 0;\n",
    "\n",
    "    int totalWays = 0;\n",
    "    for (int step : steps) {\n",
    "        totalWays += countWaysVariableSteps(n - step, steps);\n",
    "    }\n",
    "    return totalWays;\n",
    "}\n",
    "\n",
    "int[] steps = {1, 2};\n",
    "System.out.println(countWaysVariableSteps(4, steps));"
   ]
  },
  {
   "cell_type": "markdown",
   "metadata": {},
   "source": [
    "This code has a time complexity of O(2^n) was two calls are made for each increment of n. This could be remedied by storing already calculated values and not calculating for values already calculated\n",
    "1. \n",
    "return equation(6) * equation(7)\n",
    "return (equation(5) * equation(4)) * (equation(5) * equation(4))\n",
    "return (equation(5) * equation(4)) * ((equation(5) * equation(4)) * equation(5))\n",
    "return 12 ^ 5\n",
    "D. 248832\n",
    "\n",
    "2. \n",
    "The program recursively iterates through every character and turns uppercase letters lowercase and lowercase letters uppercase\n",
    "Therefore, answer is D. tHIS IS MY FAVORITE: yAY FOR PROGRAMMING!!!\n",
    "\n",
    "3. A. The first function call in a recursive chain, since this call will initiate the other recursive calls"
   ]
  }
 ],
 "metadata": {
  "kernelspec": {
   "display_name": "Java",
   "language": "java",
   "name": "java"
  },
  "language_info": {
   "codemirror_mode": "java",
   "file_extension": ".jshell",
   "mimetype": "text/x-java-source",
   "name": "java",
   "pygments_lexer": "java",
   "version": "17.0.12+7-Ubuntu-1ubuntu222.04"
  }
 },
 "nbformat": 4,
 "nbformat_minor": 2
}
