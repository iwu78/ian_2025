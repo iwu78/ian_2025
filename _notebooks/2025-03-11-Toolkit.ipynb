{
 "cells": [
  {
   "cell_type": "markdown",
   "metadata": {},
   "source": [
    "---\n",
    "layout: post\n",
    "comments: True\n",
    "title: Toolkit Relationships\n",
    "description: Toolkit Relationship\n",
    "categories:\n",
    "  - Project Work\n",
    "---"
   ]
  },
  {
   "cell_type": "markdown",
   "metadata": {
    "vscode": {
     "languageId": "plaintext"
    }
   },
   "source": [
    "~~~mermaid\n",
    "graph TD\n",
    "    subgraph Structure\n",
    "        People --> Groups\n",
    "    end\n",
    "\n",
    "    subgraph Synergy\n",
    "        Submissions --> Grades\n",
    "        Submissions --> Comments\n",
    "    end\n",
    "\n",
    "    Structure --> Synergy\n",
    "    Structure --> Queue\n",
    "    Queue --> Screenshare\n",
    "    Assignments --> Submissions\n",
    "    Assignments --> Queue\n",
    "    Assignments --> Team_Teach\n",
    "    Slack --> Calendar\n",
    "    Slack --> Assignments\n",
    "    Assignments --> Calendar\n",
    "~~~"
   ]
  }
 ],
 "metadata": {
  "language_info": {
   "name": "python"
  }
 },
 "nbformat": 4,
 "nbformat_minor": 2
}
