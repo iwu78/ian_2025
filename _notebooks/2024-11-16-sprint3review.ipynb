{
 "cells": [
  {
   "cell_type": "markdown",
   "metadata": {},
   "source": [
    "---\n",
    "layout: post\n",
    "comments: True\n",
    "title: Sprint 3 Review\n",
    "description: Sprint 3\n",
    "categories: ['Sprint 3 - Project, MCQ']\n",
    "---"
   ]
  },
  {
   "cell_type": "markdown",
   "metadata": {},
   "source": [
    "#### Sprint 1 - 3 Review Ticket\n",
    "- This page.\n",
    "- [Sprint 1](https://iwu78.github.io/ian_2025/sprint%201/2024/08/22/tools-installation-commands-copy.html)\n",
    "- [Sprint 2](https://iwu78.github.io/ian_2025/sprint%202%20-%20cb%20units%20-%20java/2024/10/08/review_IPYNB_2_.html)\n",
    "\n",
    "#### Team Issues / Plan\n",
    "[Issues Page](https://github.com/JITS-K/JITS_Frontend_Project1/issues)\n",
    "\n",
    "Planning, Assigned Role, etc. can all be found above\n",
    "\n",
    "#### N@tM Presentation\n",
    "\n",
    "#### Programming\n",
    "Key Highlights\n",
    "\n",
    "- Storing custom objects inside database, different ways.\n",
    "- Could be boring, make three columns, but that can't happen everywhere, so intentionally stored custom object\n",
    "\n",
    "Method 1:\n",
    "- Annotations, create variable not stored in database, and every time database is updated run function to convert unstored variable to string\n",
    "\n",
    "Method 2 (code below)\n",
    "- Converter\n",
    "\n",
    "[Queue Commit](https://github.com/JITS-K/JITS_Backend_Project1/commit/39b30398f938eb1c865bf5eeb520304ea1e5f1ef#diff-d151dcc24287b7a239155eab68ddf5a07509cd599d1ee7b2bc3eef5a77509f07)\n",
    "\n",
    "Image: ![image.png](../../../images/image.png)"
   ]
  },
  {
   "cell_type": "code",
   "execution_count": null,
   "metadata": {
    "vscode": {
     "languageId": "java"
    }
   },
   "outputs": [],
   "source": [
    "@Converter\n",
    "public class QueueConverter implements AttributeConverter<Queue, String> {\n",
    "    private static final ObjectMapper objectMapper = new ObjectMapper();\n",
    "\n",
    "    @Override\n",
    "    public String convertToDatabaseColumn(Queue queue) {\n",
    "        try {\n",
    "            return objectMapper.writeValueAsString(queue);\n",
    "        } catch (JsonProcessingException e) {\n",
    "            throw new IllegalArgumentException(\"Error converting Queue to JSON\", e);\n",
    "        }\n",
    "    }\n",
    "\n",
    "    @Override\n",
    "    public Queue convertToEntityAttribute(String dbData) {\n",
    "        try {\n",
    "            return objectMapper.readValue(dbData, Queue.class);\n",
    "        } catch (JsonProcessingException e) {\n",
    "            throw new IllegalArgumentException(\"Error converting JSON to Queue\", e);\n",
    "        }\n",
    "    }\n",
    "}"
   ]
  },
  {
   "cell_type": "markdown",
   "metadata": {},
   "source": [
    "Had to think about existing code...\n",
    "\n",
    "Current user database is situated somewhere else, not on our backend. Therefore, I had to create the function separately with an async function so that this can be substituted later for a fetch from the existing user database. Everything else works independently of this."
   ]
  },
  {
   "cell_type": "code",
   "execution_count": null,
   "metadata": {
    "vscode": {
     "languageId": "javascript"
    }
   },
   "outputs": [],
   "source": [
    "async function fetchPeople() {\n",
    "    const response = await fetch('http://localhost:8085/api/people');\n",
    "    if (response.ok) {\n",
    "        const people = await response.json();\n",
    "        return people.map(person => person.name);\n",
    "    }\n",
    "    return [];\n",
    "}"
   ]
  }
 ],
 "metadata": {
  "kernelspec": {
   "display_name": "Java",
   "language": "java",
   "name": "java"
  },
  "language_info": {
   "codemirror_mode": "java",
   "file_extension": ".jshell",
   "mimetype": "text/x-java-source",
   "name": "Java",
   "pygments_lexer": "java",
   "version": "17.0.12+7-Ubuntu-1ubuntu222.04"
  }
 },
 "nbformat": 4,
 "nbformat_minor": 2
}
