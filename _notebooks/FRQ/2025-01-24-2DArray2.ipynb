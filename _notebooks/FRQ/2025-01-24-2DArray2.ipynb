{
 "cells": [
  {
   "cell_type": "markdown",
   "metadata": {},
   "source": [
    "---\n",
    "layout: post\n",
    "comments: true\n",
    "title: 2D Array 2 Homework\n",
    "description: 2D Array 2 Homework\n",
    "categories:\n",
    "  - Sprint 5 - FRQ\n",
    "---\n",
    "\n",
    "# a)"
   ]
  },
  {
   "cell_type": "code",
   "execution_count": 2,
   "metadata": {
    "vscode": {
     "languageId": "java"
    }
   },
   "outputs": [],
   "source": [
    "public void repopulation() {\n",
    "    int[][] ngrid = new int[grid.length][grid[0].length];\n",
    "    for(int i = 0; i < grid.length; i++) {\n",
    "        for(int j = 0; j < grid[0].length; j++) {\n",
    "            int random = (int) (Math.random() * MAX) + 1;\n",
    "            while (random % 10 != 0 || random % 100 == 0) {\n",
    "                random = (int) (Math.random() * MAX) + 1;\n",
    "            }\n",
    "            ngrid[i][j] = random;\n",
    "        }\n",
    "    }\n",
    "    grid = ngrid;\n",
    "}"
   ]
  },
  {
   "cell_type": "markdown",
   "metadata": {},
   "source": [
    "# b)"
   ]
  },
  {
   "cell_type": "code",
   "execution_count": null,
   "metadata": {
    "vscode": {
     "languageId": "java"
    }
   },
   "outputs": [],
   "source": [
    "public int countIncreasingCols() {\n",
    "   int c = 0;\n",
    "\n",
    "   for (int i = 0; i < grid[0].length; i++) {\n",
    "      boolean alr = true;\n",
    "\n",
    "      for (int j = 1; j < grid.length; j++) {\n",
    "         if (grid[j][i] < grid[j - 1][i]) {\n",
    "            alr = false;\n",
    "         }\n",
    "      }\n",
    "\n",
    "      if (alr) {\n",
    "         alr = false;\n",
    "      }\n",
    "   }\n",
    "\n",
    "   return c;\n",
    "}"
   ]
  }
 ],
 "metadata": {
  "kernelspec": {
   "display_name": "Java",
   "language": "java",
   "name": "java"
  },
  "language_info": {
   "codemirror_mode": "java",
   "file_extension": ".jshell",
   "mimetype": "text/x-java-source",
   "name": "Java",
   "pygments_lexer": "java",
   "version": "17.0.12+7-Ubuntu-1ubuntu222.04"
  }
 },
 "nbformat": 4,
 "nbformat_minor": 2
}
