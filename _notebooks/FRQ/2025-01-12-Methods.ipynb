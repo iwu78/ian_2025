{
 "cells": [
  {
   "cell_type": "markdown",
   "metadata": {},
   "source": [
    "---\n",
    "layout: post\n",
    "comments: true\n",
    "title: FRQ - Methods Homework\n",
    "description: Methods Homework\n",
    "categories:\n",
    "  - AP Test Prep\n",
    "---\n",
    "\n",
    "# a)"
   ]
  },
  {
   "cell_type": "code",
   "execution_count": 2,
   "metadata": {},
   "outputs": [],
   "source": [
    "public int getScore() { \n",
    "    //  initialize score as 0\n",
    "    int score = 0; \n",
    "    // check if each level has been reached. \n",
    "    // if statements are nested to ensure that points in a level can only be attained if all previous levels' goals have been reached\n",
    "    if (levelOne.goalReached()) { \n",
    "        score = levelOne.getPoints(); \n",
    "        if (levelTwo.goalReached()) { \n",
    "            score += levelTwo.getPoints(); \n",
    "            if (levelThree.goalReached()) { \n",
    "                score += levelThree.getPoints();\n",
    "            }\n",
    "        }\n",
    "    } \n",
    "    // if bonus, multiply by 3\n",
    "    if (isBonus()) { \n",
    "        score *= 3;\n",
    "    } \n",
    "    return score;\n",
    "}"
   ]
  },
  {
   "cell_type": "markdown",
   "metadata": {},
   "source": [
    "# b)"
   ]
  },
  {
   "cell_type": "code",
   "execution_count": null,
   "metadata": {},
   "outputs": [],
   "source": [
    "public int playManyTimes(int num) { \n",
    "    int highestScore = 0; \n",
    "    // iterate as many times as requested\n",
    "    for (int i = 0; i < num; i++) { \n",
    "        // simulate and check if simulation is greater than the already existing maximum\n",
    "        play();\n",
    "        int score = getScore();\n",
    "        if (score > highestScore) { \n",
    "            highestScore = score;\n",
    "        }\n",
    "    } \n",
    "    // return result\n",
    "    return highestScore;\n",
    "}"
   ]
  }
 ],
 "metadata": {
  "kernelspec": {
   "display_name": "Java",
   "language": "java",
   "name": "java"
  },
  "language_info": {
   "codemirror_mode": "java",
   "file_extension": ".jshell",
   "mimetype": "text/x-java-source",
   "name": "java",
   "pygments_lexer": "java",
   "version": "17.0.12+7-Ubuntu-1ubuntu222.04"
  }
 },
 "nbformat": 4,
 "nbformat_minor": 2
}
