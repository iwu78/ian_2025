{
 "cells": [
  {
   "cell_type": "markdown",
   "metadata": {},
   "source": [
    "---\n",
    "layout: post\n",
    "comments: true\n",
    "title: 2D Array Homework\n",
    "description: 2D Array Homework\n",
    "categories:\n",
    "  - Sprint 5 - FRQ\n",
    "---\n",
    "\n",
    "# a)"
   ]
  },
  {
   "cell_type": "code",
   "execution_count": 2,
   "metadata": {
    "vscode": {
     "languageId": "java"
    }
   },
   "outputs": [],
   "source": [
    "public static boolean isNonZeroRow(int[][] array2D, int r) {\n",
    "    boolean hasZero = false;\n",
    "    for (int i = 0; i < array2D[r].length(); i++) {\n",
    "        if (array2D[r][i] == 0) {\n",
    "            hasZero = true;\n",
    "        }\n",
    "    }\n",
    "    return hasZero;\n",
    "}"
   ]
  },
  {
   "cell_type": "markdown",
   "metadata": {},
   "source": [
    "# b)"
   ]
  },
  {
   "cell_type": "code",
   "execution_count": null,
   "metadata": {
    "vscode": {
     "languageId": "java"
    }
   },
   "outputs": [],
   "source": [
    "public static int[][] resize(int[][] array2D) {\n",
    "   int[][] toReturn = new int[numNonZeroRows(array2D)][array2D[0].length];\n",
    "   int k = 0;\n",
    "   for (int i = 0; i < array2D.length; i++) {\n",
    "      if (isNonZeroRow(array2D, r)) {\n",
    "         k++;\n",
    "         for (int j = 0; j < array2D[0].length; j++) {\n",
    "            toReturn[k - 1][j] = array2D[i][j]\n",
    "         }\n",
    "      }\n",
    "   }\n",
    "   return toReturn;   \n",
    "}"
   ]
  }
 ],
 "metadata": {
  "kernelspec": {
   "display_name": "Java",
   "language": "java",
   "name": "java"
  },
  "language_info": {
   "codemirror_mode": "java",
   "file_extension": ".jshell",
   "mimetype": "text/x-java-source",
   "name": "Java",
   "pygments_lexer": "java",
   "version": "17.0.12+7-Ubuntu-1ubuntu222.04"
  }
 },
 "nbformat": 4,
 "nbformat_minor": 2
}
