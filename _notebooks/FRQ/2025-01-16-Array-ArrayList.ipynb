{
 "cells": [
  {
   "cell_type": "markdown",
   "metadata": {},
   "source": [
    "---\n",
    "layout: post\n",
    "comments: true\n",
    "title: FRQ - Array/ArrayList Homework\n",
    "description: Array/ArrayList Homework\n",
    "categories:\n",
    "  - AP Test Prep\n",
    "---\n",
    "\n",
    "# a)"
   ]
  },
  {
   "cell_type": "code",
   "execution_count": 2,
   "metadata": {
    "vscode": {
     "languageId": "java"
    }
   },
   "outputs": [],
   "source": [
    "public void cleanData(double lower, double upper) {\n",
    "    // screw iterating backwards so i'm using another array\n",
    "    ArrayList<Double> cleaned = new ArrayList<>();\n",
    "    \n",
    "    for (double temperature : temperatures) {\n",
    "        if (temperature >= lower && temperature <= upper) {\n",
    "            // add in same order\n",
    "            cleaned.add(temperature);\n",
    "        }\n",
    "    }\n",
    "    \n",
    "    // simply overwrite old array, no removing. \n",
    "    temperatures = cleaned;\n",
    "}"
   ]
  },
  {
   "cell_type": "markdown",
   "metadata": {},
   "source": [
    "# b)"
   ]
  },
  {
   "cell_type": "code",
   "execution_count": null,
   "metadata": {
    "vscode": {
     "languageId": "java"
    }
   },
   "outputs": [],
   "source": [
    "public int longestHeatWave(double threshold)  \n",
    "{ \n",
    "   // default is 0, i lazy\n",
    "   int duration, max; \n",
    " \n",
    "   for (double temperature : temperatures)  { \n",
    "      // for every temperature checked that is greater than the threshold, the length of the wave increases by one\n",
    "      if (temperature > threshold)  { \n",
    "         duration++;  \n",
    "         if (duration > max)  { \n",
    "            // set new max if reached\n",
    "            max = duration; \n",
    "         } \n",
    "      } \n",
    "      // reset duration to 0\n",
    "      else  { \n",
    "         duration = 0;          \n",
    "      } \n",
    "   } \n",
    "   return max; \n",
    "}"
   ]
  }
 ],
 "metadata": {
  "kernelspec": {
   "display_name": "Java",
   "language": "java",
   "name": "java"
  },
  "language_info": {
   "codemirror_mode": "java",
   "file_extension": ".jshell",
   "mimetype": "text/x-java-source",
   "name": "Java",
   "pygments_lexer": "java",
   "version": "17.0.12+7-Ubuntu-1ubuntu222.04"
  }
 },
 "nbformat": 4,
 "nbformat_minor": 2
}
