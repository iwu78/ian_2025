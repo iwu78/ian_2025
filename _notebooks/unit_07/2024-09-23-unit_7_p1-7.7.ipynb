{
 "cells": [
  {
   "cell_type": "raw",
   "metadata": {
    "vscode": {
     "languageId": "raw"
    }
   },
   "source": [
    "---\n",
    "layout: post\n",
    "toc: true\n",
    "title: 7.7 - Ethical Issues around Data Collection\n",
    "description: Ethical issues around data collection with ArrayLists\n",
    "authors: Aidan Lau, Saathvik Gampa, Sri Surapaneni, Tanav Kambhampati\n",
    "categories: [AP CSA]\n",
    "type: ccc\n",
    "permalink: /csa/unit7-p1/unit7-7\n",
    "menu: nav/CSA_Units/csa_unit7_p1.html\n",
    "---"
   ]
  },
  {
   "cell_type": "markdown",
   "metadata": {},
   "source": [
    "<table>\n",
    "    <tr>\n",
    "        <td><a href=\"{{site.baseurl}}/csa/unit7-p1/unit7-homepage\">Home</a></td>\n",
    "        <td><a href=\"{{site.baseurl}}/csa/unit7-p1/unit7-1\">7.1 Introduction</a></td>\n",
    "        <td><a href=\"{{site.baseurl}}/csa/unit7-p1/unit7-2\">7.2 Methods</a></td>\n",
    "        <td><a href=\"{{site.baseurl}}/csa/unit7-p1/unit7-3\">7.3 Traversing</a></td>\n",
    "        <td><a href=\"{{site.baseurl}}/csa/unit7-p1/unit7-4\">7.4 Algorithms</a></td>\n",
    "        <td><a href=\"{{site.baseurl}}/csa/unit7-p1/unit7-5\">7.5 Searching</a></td>\n",
    "        <td><a href=\"{{site.baseurl}}/csa/unit7-p1/unit7-6\">7.6 Sorting</a></td>\n",
    "        <td><a href=\"{{site.baseurl}}/csa/unit7-p1/unit7-7\">7.7 Ethical Issues</a></td>\n",
    "    </tr>\n",
    "</table>"
   ]
  },
  {
   "cell_type": "markdown",
   "metadata": {},
   "source": [
    "# 7.7: Ethical issues around Data Collection"
   ]
  },
  {
   "cell_type": "markdown",
   "metadata": {},
   "source": [
    "### Learning Objectives:\n",
    "- Explaining the risks of privacy from collecting and storing personal data on computer systems.\n",
    "\n",
    "### Essential Knowledge:\n",
    "- Data Collection: Methods (cookies, tracking, etc.)\n",
    "- Ethical Data Use: Identifying Personal data (Personal Identifiable Information, Sensitive Personal Information)\n",
    "- Security Practices: Data Encryption, Data Anonymization, Data Minimization"
   ]
  },
  {
   "cell_type": "markdown",
   "metadata": {},
   "source": [
    "## Privacy Protection mechanisms\n",
    "- Encryption: Encode data for only authorized users to access.\n",
    "- Anonymization: Remove personal information from data.\n",
    "- Data Minimization: Collect only necessary data.\n",
    "- User Control: Allowing users to control how their data is used\n"
   ]
  },
  {
   "cell_type": "code",
   "execution_count": 4,
   "metadata": {},
   "outputs": [
    {
     "name": "stdout",
     "output_type": "stream",
     "text": [
      "Original Data: mySecretPassword123\n",
      "Hash Code: 1107444891\n",
      "Same Data Hash: 1107444891\n",
      "Modified Data: mySecretPassword124\n",
      "Modified Data Hash: 1107444892\n"
     ]
    }
   ],
   "source": [
    "// Example string data\n",
    "String originalData = \"mySecretPassword123\";\n",
    "\n",
    "// Generate a hash code for the string\n",
    "int hash = originalData.hashCode();\n",
    "\n",
    "// Display the original data and its hash\n",
    "System.out.println(\"Original Data: \" + originalData);\n",
    "System.out.println(\"Hash Code: \" + hash);\n",
    "\n",
    "// Demonstrate that the same string always produces the same hash\n",
    "String sameData = \"mySecretPassword123\";\n",
    "int sameHash = sameData.hashCode();\n",
    "System.out.println(\"Same Data Hash: \" + sameHash);\n",
    "\n",
    "// Demonstrate that a small change in data produces a different hash\n",
    "String modifiedData = \"mySecretPassword124\";\n",
    "int modifiedHash = modifiedData.hashCode();\n",
    "System.out.println(\"Modified Data: \" + modifiedData);\n",
    "System.out.println(\"Modified Data Hash: \" + modifiedHash);"
   ]
  },
  {
   "cell_type": "markdown",
   "metadata": {},
   "source": [
    "### Uses of Hashing\n",
    "- Hashing is used to store passwords securely but it is not enough for large scale industries.\n",
    "- Hashing is used to conceal sensitive information like credit card information but not enough to protect it entirely."
   ]
  },
  {
   "cell_type": "markdown",
   "metadata": {},
   "source": [
    "### Hashing with Salt\n",
    "\n",
    "As we talked about earlier in the hashing section, hashing is a one-way function. This means that once you hash a value, you can't get the original value back. This is useful for storing passwords, but it also means that if two users have the same password, they will have the same hash. This is a problem because if an attacker gets access to the hash, they can use a rainbow table to look up the hash and find the original password.\n",
    "\n",
    "Thus, we use Hasing with Salt which means that even if 2 users have the same password, they will have different hashes because we add a random value to the password before hashing it. This random value is called a salt."
   ]
  },
  {
   "cell_type": "markdown",
   "metadata": {},
   "source": [
    "## Homework"
   ]
  },
  {
   "cell_type": "markdown",
   "metadata": {},
   "source": [
    "### Homework Problem: Exploring Hashing and Privacy Protection (Extra Credit)\n",
    "\n",
    "#### **Problem:**\n",
    "Write a Java program that simulates how hashing works in protecting passwords. You will implement the following tasks:\n",
    "\n",
    "1. **Task 1: Basic Password Hashing**\n",
    "   - Write a program that accepts a user's password input and generates a hash using the **`hashCode()`** method.\n",
    "   - Display the original password and the hash to show how the same input always produces the same hash.\n",
    "\n",
    "2. **Task 2: Salting the Password**\n",
    "   - Enhance the program by generating a random **salt** for the password. Append the salt to the password before hashing, and display both the salt and the hashed password.\n",
    "   - Store the salt separately and demonstrate that the same password with a different salt produces a different hash.\n",
    "\n",
    "3. **Task 3: Verifying the Password**\n",
    "   - Write a method that simulates logging in by taking a password and salt as input, hashing them again, and comparing the result to the previously stored hash.\n",
    "   - If the hash matches, display \"Login Successful\"; otherwise, display \"Login Failed.\"\n",
    "\n",
    "#### **Extra Challenge (Optional):**\n",
    "- Research and use the **`MessageDigest`** class in Java to implement password hashing with a more secure algorithm like **SHA-256**. Modify your program to use this instead of `hashCode()`.\n",
    "\n"
   ]
  },
  {
   "cell_type": "code",
   "execution_count": 13,
   "metadata": {},
   "outputs": [
    {
     "name": "stdout",
     "output_type": "stream",
     "text": [
      "What would you like to do?\n",
      "A: Generate Password\n",
      "B: Verify Password\n",
      "Action not found.\n",
      "Would you like to exit? [Y/N]: \n",
      "What would you like to do?\n",
      "A: Generate Password\n",
      "B: Verify Password\n",
      "Enter Password: \n",
      "Hash and salt generated. Salt: wrujh6irvSGJlIWG\n",
      "Would you like to exit? [Y/N]: \n",
      "What would you like to do?\n",
      "A: Generate Password\n",
      "B: Verify Password\n",
      "Enter Password to Verify: \n",
      "Login failed.\n",
      "Would you like to exit? [Y/N]: \n",
      "What would you like to do?\n",
      "A: Generate Password\n",
      "B: Verify Password\n",
      "Action not found.\n",
      "Would you like to exit? [Y/N]: \n"
     ]
    }
   ],
   "source": [
    "import java.util.Scanner;\n",
    "import java.util.Random;\n",
    "\n",
    "boolean done = false;\n",
    "int hash;\n",
    "String salt = \"\";\n",
    "String savedPassword = \"\";\n",
    "String savedSalt = \"\";\n",
    "\n",
    "Scanner scan = new Scanner(System.in);\n",
    "Random random = new Random();\n",
    "\n",
    "while (!done) {\n",
    "    System.out.println(\"What would you like to do?\\nA: Generate Password\\nB: Verify Password\");\n",
    "    String action = scan.nextLine();\n",
    "    \n",
    "    if (action.charAt(0) == 'A') {\n",
    "        System.out.println(\"Enter Password: \");\n",
    "        String plaintext = scan.nextLine();\n",
    "\n",
    "        StringBuilder saltBuilder = new StringBuilder();\n",
    "        int saltLength = 16; \n",
    "        String saltCharacters = \"ABCDEFGHIJKLMNOPQRSTUVWXYZabcdefghijklmnopqrstuvwxyz0123456789\";\n",
    "        \n",
    "        for (int i = 0; i < saltLength; i++) {\n",
    "            saltBuilder.append(saltCharacters.charAt(random.nextInt(saltCharacters.length())));\n",
    "        }\n",
    "        salt = saltBuilder.toString();\n",
    "        \n",
    "        hash = (salt + plaintext).hashCode();\n",
    "\n",
    "        savedPassword = Integer.toString(hash);\n",
    "        savedSalt = salt;\n",
    "        System.out.println(\"Hash and salt generated. Salt: \" + salt);\n",
    "\n",
    "    } else if (action.charAt(0) == 'B') {\n",
    "        if (savedPassword.isEmpty()) {\n",
    "            System.out.println(\"No password has been set.\");\n",
    "        } else {\n",
    "            System.out.println(\"Enter Password to Verify: \");\n",
    "            String plaintext = scan.nextLine();\n",
    "\n",
    "            int verifyHash = (savedSalt + plaintext).hashCode();\n",
    "\n",
    "            if (savedPassword.equals(Integer.toString(verifyHash))) {\n",
    "                System.out.println(\"Login Successful!\");\n",
    "            } else {\n",
    "                System.out.println(\"Login failed.\");\n",
    "            }\n",
    "        }\n",
    "\n",
    "    } else {\n",
    "        System.out.println(\"Action not found.\");\n",
    "    }\n",
    "\n",
    "    System.out.println(\"Would you like to exit? [Y/N]: \");\n",
    "    String response = scan.nextLine();\n",
    "    if (response.charAt(0) == 'Y') {\n",
    "        done = true;\n",
    "    }\n",
    "}\n",
    "scan.close();"
   ]
  }
 ],
 "metadata": {
  "kernelspec": {
   "display_name": "Java",
   "language": "java",
   "name": "java"
  },
  "language_info": {
   "codemirror_mode": "java",
   "file_extension": ".jshell",
   "mimetype": "text/x-java-source",
   "name": "java",
   "pygments_lexer": "java",
   "version": "17.0.12+7-Ubuntu-1ubuntu222.04"
  }
 },
 "nbformat": 4,
 "nbformat_minor": 2
}
