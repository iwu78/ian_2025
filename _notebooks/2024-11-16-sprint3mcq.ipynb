{
 "cells": [
  {
   "cell_type": "markdown",
   "metadata": {},
   "source": [
    "---\n",
    "layout: post\n",
    "comments: True\n",
    "title: MCQ - 1 Review\n",
    "description: Sprint 3\n",
    "categories:\n",
    "  - AP Test Prep\n",
    "---\n",
    "\n",
    "## Summary\n",
    "\n",
    "First CSA MCQ taken. Quite a jump from CSP but still not too bad. Most questions took thought and there were several trippy things. After working with java and others performance improved a lot. \n",
    "\n",
    "## Notes\n",
    "\n",
    "Missed Questions came from multiple different categories and as a result are due to mistakes in different places. Next time need to think through code given better, preferably step by step.\n",
    "\n",
    "## Missed Questions\n",
    "Missed 4, 12, 19\n",
    "\n",
    "Q4: What is printed as a result of executing the code segment?"
   ]
  },
  {
   "cell_type": "code",
   "execution_count": 2,
   "metadata": {
    "vscode": {
     "languageId": "java"
    }
   },
   "outputs": [
    {
     "name": "stdout",
     "output_type": "stream",
     "text": [
      "Value is: 2\n"
     ]
    }
   ],
   "source": [
    "int x = 7;\n",
    "int y = 3;\n",
    "if ((x < 10) && (y < 0)) {\n",
    "    System.out.println(\"Value is: \" + x * y);\n",
    "} else {\n",
    "    System.out.println(\"Value is: \" + x / y);\n",
    "}"
   ]
  },
  {
   "cell_type": "markdown",
   "metadata": {},
   "source": [
    "y is > 0, so the conditional fails and the code in the else block is ran. Therefore, it will print out the value 7 / 3. However, this is integer division, and therefore the resulting output is 2.\n",
    "\n",
    "Q12: What is returned as a result of the call mystery(\"computer\")"
   ]
  },
  {
   "cell_type": "code",
   "execution_count": 3,
   "metadata": {
    "vscode": {
     "languageId": "java"
    }
   },
   "outputs": [
    {
     "data": {
      "text/plain": [
       "optr"
      ]
     },
     "execution_count": 3,
     "metadata": {},
     "output_type": "execute_result"
    }
   ],
   "source": [
    "public String mystery(String input) {\n",
    "    String output = \"\";\n",
    "\n",
    "    for (int k = 1; k < input.length(); k = k + 2) {\n",
    "        output += input.substring(k, k + 1);\n",
    "    }\n",
    "\n",
    "    return output;\n",
    "}\n",
    "\n",
    "mystery(\"computer\");"
   ]
  },
  {
   "cell_type": "markdown",
   "metadata": {},
   "source": [
    "The for loop increments by two, iterating over every other element in the list and appending it to the output string.\n",
    "\n",
    "Q19: The expression !(!(a != b) && (b > 7)) is equal to which of the following?\n",
    "\n",
    "Simplification:\n",
    "!(!(a != b) && (b > 7))\n",
    "!((a == b) && (b > 7))\n",
    "!(a == b) || !(b > 7)\n",
    "(a != b) || (b <= 7)\n",
    "\n",
    "#### Notes\n",
    "Starting in the second half, I began using java, and it helped a lot more.\n",
    "\n",
    "Example: Q23, best visualised with an extra print statement:\n",
    "\n",
    "Q23: What will be the contents of animals be as a result of calling manipulate?\n"
   ]
  },
  {
   "cell_type": "code",
   "execution_count": 11,
   "metadata": {
    "vscode": {
     "languageId": "java"
    }
   },
   "outputs": [
    {
     "name": "stdout",
     "output_type": "stream",
     "text": [
      "[bear, baboon, zebra, bass, cat, koala]\n",
      "[bear, baboon, zebra, bass, cat, koala]\n",
      "[bear, baboon, zebra, bass, cat, koala]\n",
      "[bear, baboon, zebra, bass, cat, koala]\n",
      "[bear, zebra, bass, cat, koala, baboon]\n"
     ]
    }
   ],
   "source": [
    "private List<String> animals = new ArrayList<>(Arrays.asList(\"bear\", \"zebra\", \"bass\", \"cat\", \"koala\", \"baboon\"));\n",
    "\n",
    "public void manipulate(List<String> animals) {\n",
    "    for (int k = animals.size() - 1; k > 0; k--) {\n",
    "        if (animals.get(k).substring(0, 1).equals(\"b\")) {\n",
    "            animals.add(animals.size() - k, animals.remove(k));\n",
    "        }\n",
    "        System.out.println(animals);\n",
    "    }\n",
    "}\n",
    "\n",
    "manipulate(animals)"
   ]
  },
  {
   "cell_type": "markdown",
   "metadata": {},
   "source": [
    "This is much easier to visualize than thinking through individually, although that is what will have to happen on the AP test."
   ]
  }
 ],
 "metadata": {
  "kernelspec": {
   "display_name": "Java",
   "language": "java",
   "name": "java"
  },
  "language_info": {
   "codemirror_mode": "java",
   "file_extension": ".jshell",
   "mimetype": "text/x-java-source",
   "name": "Java",
   "pygments_lexer": "java",
   "version": "17.0.12+7-Ubuntu-1ubuntu222.04"
  }
 },
 "nbformat": 4,
 "nbformat_minor": 2
}
