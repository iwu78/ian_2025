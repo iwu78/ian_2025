{
 "cells": [
  {
   "cell_type": "markdown",
   "metadata": {},
   "source": [
    "---\n",
    "title: Merge Sort HW\n",
    "comments: true\n",
    "layout: post\n",
    "categories:\n",
    "  - Project Work\n",
    "---"
   ]
  },
  {
   "cell_type": "markdown",
   "metadata": {},
   "source": [
    "Merge sort is a sorting algorithm. It works by dividing the array repeatedly into half until all pieces are groups of 1 or 2. It then sorts all of these blocks, before merging arrays back up and sorting them together. It is different from selection and bubble sort which have a sorted block that they sort elements one by one into. \n",
    "\n",
    "Time complexity can be divided into two sections, the splitting and the merging. The splitting takes n - 1 operations, since by the end each element ends up individually, so each element except one had to be split. Then, for each level, n operations must be done to compares objects to the ones beside them. This must be done for each of log2(n) splits, giving us O(n*log2n) for the merging. For large values of n, however, n-1 is negligible and therefore the time complexity is O(nlog2(n))"
   ]
  },
  {
   "cell_type": "code",
   "execution_count": 4,
   "metadata": {
    "vscode": {
     "languageId": "java"
    }
   },
   "outputs": [
    {
     "name": "stdout",
     "output_type": "stream",
     "text": [
      "Number of inversions: 5\n"
     ]
    }
   ],
   "source": [
    "public class MergeSortInversions {\n",
    "    public static int mergeSortAndCount(int[] arr) {\n",
    "        int[] temp = new int[arr.length];\n",
    "        return mergeSortAndCountHelper(arr, temp, 0, arr.length - 1);\n",
    "    }\n",
    "\n",
    "    private static int mergeSortAndCountHelper(int[] arr, int[] temp, int left, int right) {\n",
    "        int inversionCount = 0;\n",
    "        if (left < right) {\n",
    "            int mid = (left + right) / 2;\n",
    "            \n",
    "            inversionCount += mergeSortAndCountHelper(arr, temp, left, mid);\n",
    "            inversionCount += mergeSortAndCountHelper(arr, temp, mid + 1, right);\n",
    "            inversionCount += mergeAndCount(arr, temp, left, mid, right);\n",
    "        }\n",
    "        return inversionCount;\n",
    "    }\n",
    "\n",
    "    private static int mergeAndCount(int[] arr, int[] temp, int left, int mid, int right) {\n",
    "        int i = left, j = mid + 1, k = left;\n",
    "        int inversionCount = 0;\n",
    "\n",
    "        while (i <= mid && j <= right) {\n",
    "            if (arr[i] <= arr[j]) {\n",
    "                temp[k++] = arr[i++];\n",
    "            } else {\n",
    "                temp[k++] = arr[j++];\n",
    "                inversionCount += (mid - i + 1);\n",
    "            }\n",
    "        }\n",
    "\n",
    "        while (i <= mid) {\n",
    "            temp[k++] = arr[i++];\n",
    "        }\n",
    "\n",
    "        while (j <= right) {\n",
    "            temp[k++] = arr[j++];\n",
    "        }\n",
    "\n",
    "        System.arraycopy(temp, left, arr, left, right - left + 1);\n",
    "\n",
    "        return inversionCount;\n",
    "    }\n",
    "\n",
    "    public static void main(String[] args) {\n",
    "        int[] arr = {2, 3, 8, 6, 1};\n",
    "        System.out.println(\"Number of inversions: \" + mergeSortAndCount(arr));\n",
    "    }\n",
    "}\n",
    "\n",
    "MergeSortInversions.main(new String[]{})"
   ]
  },
  {
   "cell_type": "code",
   "execution_count": 25,
   "metadata": {
    "vscode": {
     "languageId": "java"
    }
   },
   "outputs": [
    {
     "name": "stdout",
     "output_type": "stream",
     "text": [
      "3.0\n",
      "0.33333334\n"
     ]
    }
   ],
   "source": [
    "float a = 1;\n",
    "int b = 3;\n",
    "\n",
    "System.out.println(a * b);\n",
    "System.out.println(a / b);"
   ]
  }
 ],
 "metadata": {
  "kernelspec": {
   "display_name": "Java",
   "language": "java",
   "name": "java"
  },
  "language_info": {
   "codemirror_mode": "java",
   "file_extension": ".jshell",
   "mimetype": "text/x-java-source",
   "name": "Java",
   "pygments_lexer": "java",
   "version": "17.0.14+7-Ubuntu-122.04.1"
  }
 },
 "nbformat": 4,
 "nbformat_minor": 2
}
